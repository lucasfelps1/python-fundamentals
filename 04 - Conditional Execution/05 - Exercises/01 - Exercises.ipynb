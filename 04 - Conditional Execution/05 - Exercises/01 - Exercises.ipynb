{
 "cells": [
  {
   "cell_type": "markdown",
   "id": "sensitive-saint",
   "metadata": {},
   "source": [
    "### Exercises"
   ]
  },
  {
   "cell_type": "markdown",
   "id": "particular-humidity",
   "metadata": {},
   "source": [
    "#### Exercise 1"
   ]
  },
  {
   "cell_type": "markdown",
   "id": "trained-masters",
   "metadata": {},
   "source": [
    "Given a variable `a` (containing any value), re-assign the value `\"N/A\"` if `a` is `None`, and leave `a` unchanged otherwise. Use an `if...else...` statement."
   ]
  },
  {
   "cell_type": "code",
   "execution_count": 2,
   "id": "22975bb7-cddc-45f1-80e0-82c2f3698388",
   "metadata": {},
   "outputs": [
    {
     "name": "stdout",
     "output_type": "stream",
     "text": [
      "a = N/A\n"
     ]
    }
   ],
   "source": [
    "a = None\n",
    "\n",
    "if a == None:\n",
    "    a = \"N/A\"\n",
    "    print(f'a = {a}')\n",
    "else: \n",
    "    print(f'a = {a}')"
   ]
  },
  {
   "cell_type": "markdown",
   "id": "growing-acoustic",
   "metadata": {},
   "source": [
    "#### Exercise 2"
   ]
  },
  {
   "cell_type": "markdown",
   "id": "hazardous-formula",
   "metadata": {},
   "source": [
    "Do the same thing as Question 1, but this time use a ternary operator."
   ]
  },
  {
   "cell_type": "code",
   "execution_count": 6,
   "id": "3615ddaf-ff24-4098-8006-5e9e2741949f",
   "metadata": {},
   "outputs": [
    {
     "data": {
      "text/plain": [
       "'N/A'"
      ]
     },
     "execution_count": 6,
     "metadata": {},
     "output_type": "execute_result"
    }
   ],
   "source": [
    "a = None\n",
    "var = 'N/A' if a == None else a\n",
    "\n",
    "var"
   ]
  },
  {
   "cell_type": "markdown",
   "id": "seasonal-bronze",
   "metadata": {},
   "source": [
    "#### Exercise 3"
   ]
  },
  {
   "cell_type": "markdown",
   "id": "atomic-authority",
   "metadata": {},
   "source": [
    "Given an credit score `score`, assign a string value to another variable `rating` based on the following scale:\n",
    "\n",
    "- [0, 580) --> Poor\n",
    "- [580, 670) --> Fair\n",
    "- [670, 740) --> Good\n",
    "- [740, 800) --> Very Good\n",
    "- [800, 850] --> Excellent\n"
   ]
  },
  {
   "cell_type": "code",
   "execution_count": 17,
   "id": "1f1b3e05-0920-48fb-ab3e-d2b100cbd154",
   "metadata": {},
   "outputs": [
    {
     "name": "stdout",
     "output_type": "stream",
     "text": [
      "Good\n"
     ]
    }
   ],
   "source": [
    "rating = 670\n",
    "\n",
    "if rating < 580:\n",
    "    print(\"Poor\")\n",
    "elif rating >= 580 and rating < 670:\n",
    "    print(\"Fair\")\n",
    "elif rating >= 670 and rating <= 740:\n",
    "    print(\"Good\")\n",
    "elif rating > 740 and rating < 800:\n",
    "    print(\"Very Good\")\n",
    "else: \n",
    "    print(\"Excellent\")\n"
   ]
  },
  {
   "cell_type": "markdown",
   "id": "fiscal-estate",
   "metadata": {},
   "source": [
    "#### Exercise 4"
   ]
  },
  {
   "cell_type": "markdown",
   "id": "overhead-candidate",
   "metadata": {},
   "source": [
    "Given an `elapsed` time (in seconds), write code to set a variable `magnitude` based on the following conditions:\n",
    "\n",
    "- if elapsed time is less than 1 minute, `magnitude` --> `'seconds'`\n",
    "- if elapsed time is more than 1 minute, but less than 1 hour, `magnitude` --> `'minutes'`\n",
    "- if elapsed time is more than 1 hour, but less than 1 day, `magnitude` --> `'hours'`\n",
    "- if elapsed time is more than 1 day, but less than 1 week: `magnitude` --> `'days'`\n",
    "- if elapsed time is more than 1 week, `magnitude` --> '`weeks'`"
   ]
  },
  {
   "cell_type": "code",
   "execution_count": 29,
   "id": "f6c1606f-e614-4110-a2aa-7a10d2ed7958",
   "metadata": {},
   "outputs": [
    {
     "name": "stdout",
     "output_type": "stream",
     "text": [
      "minutes\n"
     ]
    }
   ],
   "source": [
    "elapsed = 60\n",
    "\n",
    "if elapsed < 60:\n",
    "    magnitude = \"seconds\"\n",
    "    print(magnitude)\n",
    "elif elapsed == 60 and elapsed <= 3599:\n",
    "    magnitude = \"minutes\"\n",
    "    print(magnitude)\n",
    "elif elapsed == 3600 and elapsed <= 86399:\n",
    "    magnitude = \"hours\"\n",
    "    print(magnitude)\n",
    "elif elapsed == 86400 and elapsed <= 604799:\n",
    "    magnitude = \"days\"\n",
    "    print(magnitude)\n",
    "else: \n",
    "    magnitude = \"weeks\"\n",
    "    print(magnitude)"
   ]
  },
  {
   "cell_type": "code",
   "execution_count": null,
   "id": "0b73f6a5-843c-47d7-949e-b360262a0ae4",
   "metadata": {},
   "outputs": [],
   "source": []
  }
 ],
 "metadata": {
  "kernelspec": {
   "display_name": "Python 3 (ipykernel)",
   "language": "python",
   "name": "python3"
  },
  "language_info": {
   "codemirror_mode": {
    "name": "ipython",
    "version": 3
   },
   "file_extension": ".py",
   "mimetype": "text/x-python",
   "name": "python",
   "nbconvert_exporter": "python",
   "pygments_lexer": "ipython3",
   "version": "3.12.1"
  }
 },
 "nbformat": 4,
 "nbformat_minor": 5
}
